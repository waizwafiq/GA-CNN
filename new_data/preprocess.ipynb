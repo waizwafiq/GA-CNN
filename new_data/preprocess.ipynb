{
 "cells": [
  {
   "cell_type": "code",
   "execution_count": 8,
   "metadata": {},
   "outputs": [],
   "source": [
    "from PIL import Image\n",
    "import os\n",
    "import cv2\n",
    "import numpy as np\n",
    "\n",
    "def crop_image(image_path, left, top, right, bottom):\n",
    "    image = Image.open(image_path)\n",
    "    cropped_image = image.crop((left, top, right, bottom))\n",
    "\n",
    "    return cropped_image\n",
    "\n",
    "def generate_images(image_path, rotation_angles, output_path):\n",
    "    # Load the original image\n",
    "    original_image = Image.open(image_path)\n",
    "    image_name = os.path.splitext(os.path.basename(image_path))[0]\n",
    "\n",
    "    # Iterate through the rotation angles\n",
    "    for angle in rotation_angles:\n",
    "        rotated_image = original_image.rotate(angle, expand=True, fillcolor='white')\n",
    "        saved_path = f\"{output_path}{image_name}__rot{angle}deg.png\"\n",
    "        rotated_image.save(saved_path)\n",
    "\n",
    "    # Save images for Gaussian Noise\n",
    "    image = cv2.imread(image_path)\n",
    "\n",
    "    # Generate random Gaussian noise\n",
    "    mean = 0\n",
    "    stddev = 750\n",
    "    noise = np.zeros_like(image, dtype=np.int16)\n",
    "    cv2.randn(noise, mean, stddev)\n",
    "\n",
    "    # Add the noise to the image\n",
    "    noisy_image = np.clip(image + noise, 0, 255).astype(np.uint8)\n",
    "\n",
    "    # Save the noisy image\n",
    "    cv2.imwrite(f'{output_path}{image_name}__gnoise.png', noisy_image)"
   ]
  },
  {
   "cell_type": "code",
   "execution_count": 87,
   "metadata": {},
   "outputs": [],
   "source": [
    "angles = [-5, -7.5, -10, -12.5, -15, -20, -22.5 -25, -27.5, -30, -32.5, -35, -37.5, -40, -42.5, -45, 45, 42.5, 40, 37.5, 35, 32.5, 30, 27.5, 25, 22.5, 20, 15, 12.5, 10, 7.5, 5]\n",
    "\n",
    "path = \"./dataset/Zyad/\"\n",
    "\n",
    "for img_name in os.listdir(path):\n",
    "    generate_images(image_path=path+img_name, rotation_angles=angles, output_path=path)"
   ]
  },
  {
   "cell_type": "code",
   "execution_count": 88,
   "metadata": {},
   "outputs": [
    {
     "data": {
      "text/plain": [
       "1650"
      ]
     },
     "execution_count": 88,
     "metadata": {},
     "output_type": "execute_result"
    }
   ],
   "source": [
    "# Angles * Image numbers (50) + Noise (1 noise per image = 50 images) + Number of ori images (50)\n",
    "\n",
    "len(angles) * 50 + 50 + 50"
   ]
  },
  {
   "cell_type": "code",
   "execution_count": 89,
   "metadata": {},
   "outputs": [
    {
     "name": "stdout",
     "output_type": "stream",
     "text": [
      "Number of files: 1650\n"
     ]
    }
   ],
   "source": [
    "\n",
    "# Get the list of files and directories in the specified directory\n",
    "file_list = os.listdir(path)\n",
    "\n",
    "# Count the number of files\n",
    "file_count = len([file for file in file_list if os.path.isfile(os.path.join(path, file))])\n",
    "\n",
    "print(\"Number of files:\", file_count)"
   ]
  },
  {
   "attachments": {},
   "cell_type": "markdown",
   "metadata": {},
   "source": [
    "# Making Image Decoding Faster"
   ]
  },
  {
   "cell_type": "code",
   "execution_count": 12,
   "metadata": {},
   "outputs": [],
   "source": [
    "import torch\n",
    "from torchvision.datasets import DatasetFolder\n",
    "import torchvision.transforms as transforms\n",
    "from PIL import Image\n",
    "\n",
    "import os\n",
    "\n",
    "data_dir = './dataset'\n",
    "output_dir = './processed_dataset_flattened'\n",
    "\n",
    "# Create the output directory if it doesn't exist\n",
    "os.makedirs(output_dir, exist_ok=True)\n",
    "\n",
    "transform = transforms.Compose([\n",
    "    # transforms.Lambda(lambda img: img.convert('RGB')),  # Convert image to RGB format\n",
    "    transforms.Grayscale(),\n",
    "    transforms.Resize((224, 224)),  # Resize images to (224, 224)\n",
    "    transforms.ToTensor(),  # Convert images to tensors\n",
    "    transforms.Normalize((0.5,), (0.5,)),  # Normalize the image tensors\n",
    "    transforms.Lambda(lambda x: x.view(-1))  # Flatten the tensor\n",
    "])\n",
    "\n",
    "# Iterate over the class folders and save processed tensors\n",
    "for class_folder in os.listdir(data_dir):\n",
    "    class_path = os.path.join(data_dir, class_folder)\n",
    "    if os.path.isdir(class_path):\n",
    "        class_output_dir = os.path.join(output_dir, class_folder)\n",
    "        os.makedirs(class_output_dir, exist_ok=True)\n",
    "\n",
    "        for file in os.listdir(class_path):\n",
    "            if file.endswith('.png'):\n",
    "                file_path = os.path.join(class_path, file)\n",
    "                output_path = os.path.join(class_output_dir, os.path.splitext(file)[0] + '.pt')\n",
    "\n",
    "                # Load and preprocess the image\n",
    "                image = transform(Image.open(file_path))\n",
    "\n",
    "                # Save the processed tensor as .pt file\n",
    "                torch.save(image, output_path)\n"
   ]
  }
 ],
 "metadata": {
  "kernelspec": {
   "display_name": "wix3001_assignment",
   "language": "python",
   "name": "python3"
  },
  "language_info": {
   "codemirror_mode": {
    "name": "ipython",
    "version": 3
   },
   "file_extension": ".py",
   "mimetype": "text/x-python",
   "name": "python",
   "nbconvert_exporter": "python",
   "pygments_lexer": "ipython3",
   "version": "3.9.6"
  },
  "orig_nbformat": 4
 },
 "nbformat": 4,
 "nbformat_minor": 2
}
