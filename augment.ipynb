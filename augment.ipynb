{
 "cells": [
  {
   "cell_type": "code",
   "execution_count": 69,
   "metadata": {},
   "outputs": [],
   "source": [
    "from PIL import Image\n",
    "import os\n",
    "import cv2\n",
    "import numpy as np\n",
    "\n",
    "def crop_image(image_path, left, top, right, bottom):\n",
    "    image = Image.open(image_path)\n",
    "    cropped_image = image.crop((left, top, right, bottom))\n",
    "\n",
    "    return cropped_image\n",
    "\n",
    "def generate_images(image_path, rotation_angles, output_path):\n",
    "    # Load the original image\n",
    "    original_image = Image.open(image_path)\n",
    "    image_name = os.path.splitext(os.path.basename(image_path))[0]\n",
    "\n",
    "    # Iterate through the rotation angles\n",
    "    for angle in rotation_angles:\n",
    "        rotated_image = original_image.rotate(angle, expand=True, fillcolor='white')\n",
    "        saved_path = f\"{output_path}{image_name}__rot{angle}deg.png\"\n",
    "        rotated_image.save(saved_path)\n",
    "\n",
    "    # Save images for Gaussian Noise\n",
    "    image = cv2.imread(image_path)\n",
    "\n",
    "    # Generate random Gaussian noise\n",
    "    mean = 0\n",
    "    stddev = 750\n",
    "    noise = np.zeros_like(image, dtype=np.int16)\n",
    "    cv2.randn(noise, mean, stddev)\n",
    "\n",
    "    # Add the noise to the image\n",
    "    noisy_image = np.clip(image + noise, 0, 255).astype(np.uint8)\n",
    "\n",
    "    # Save the noisy image\n",
    "    cv2.imwrite(f'{output_path}{image_name}__gnoise.png', noisy_image)"
   ]
  },
  {
   "cell_type": "code",
   "execution_count": 87,
   "metadata": {},
   "outputs": [],
   "source": [
    "angles = [-5, -7.5, -10, -12.5, -15, -20, -22.5 -25, -27.5, -30, -32.5, -35, -37.5, -40, -42.5, -45, 45, 42.5, 40, 37.5, 35, 32.5, 30, 27.5, 25, 22.5, 20, 15, 12.5, 10, 7.5, 5]\n",
    "\n",
    "path = \"./dataset/Zyad/\"\n",
    "\n",
    "for img_name in os.listdir(path):\n",
    "    generate_images(image_path=path+img_name, rotation_angles=angles, output_path=path)"
   ]
  },
  {
   "cell_type": "code",
   "execution_count": 88,
   "metadata": {},
   "outputs": [
    {
     "data": {
      "text/plain": [
       "1650"
      ]
     },
     "execution_count": 88,
     "metadata": {},
     "output_type": "execute_result"
    }
   ],
   "source": [
    "# Angles * Image numbers (50) + Noise (1 noise per image = 50 images) + Number of ori images (50)\n",
    "\n",
    "len(angles) * 50 + 50 + 50"
   ]
  },
  {
   "cell_type": "code",
   "execution_count": 89,
   "metadata": {},
   "outputs": [
    {
     "name": "stdout",
     "output_type": "stream",
     "text": [
      "Number of files: 1650\n"
     ]
    }
   ],
   "source": [
    "\n",
    "# Get the list of files and directories in the specified directory\n",
    "file_list = os.listdir(path)\n",
    "\n",
    "# Count the number of files\n",
    "file_count = len([file for file in file_list if os.path.isfile(os.path.join(path, file))])\n",
    "\n",
    "print(\"Number of files:\", file_count)"
   ]
  }
 ],
 "metadata": {
  "kernelspec": {
   "display_name": "wix3001_assignment",
   "language": "python",
   "name": "python3"
  },
  "language_info": {
   "codemirror_mode": {
    "name": "ipython",
    "version": 3
   },
   "file_extension": ".py",
   "mimetype": "text/x-python",
   "name": "python",
   "nbconvert_exporter": "python",
   "pygments_lexer": "ipython3",
   "version": "3.9.6"
  },
  "orig_nbformat": 4
 },
 "nbformat": 4,
 "nbformat_minor": 2
}
