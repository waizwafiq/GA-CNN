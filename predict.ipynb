{
 "cells": [
  {
   "cell_type": "code",
   "execution_count": 83,
   "metadata": {},
   "outputs": [],
   "source": [
    "import torch\n",
    "import torchvision.transforms as transforms\n",
    "import torch.nn as nn\n",
    "\n",
    "from PIL import Image"
   ]
  },
  {
   "cell_type": "code",
   "execution_count": 92,
   "metadata": {},
   "outputs": [],
   "source": [
    "def predict(image, model_name, resize=(128,128)):\n",
    "    transform = transforms.Compose([\n",
    "        # transforms.Lambda(lambda img: img.convert('RGB')),  # Convert image to RGB format\n",
    "        transforms.Grayscale(),\n",
    "        transforms.Resize((224, 224)),  # Resize images to (224, 224)\n",
    "        transforms.ToTensor(),  # Convert images to tensors\n",
    "        transforms.Normalize((0.5,), (0.5,)),  # Normalize the image tensors\n",
    "    ])\n",
    "    \n",
    "    # Load the saved model from file\n",
    "    model = torch.jit.load(f'./models/{model_name}.pt')\n",
    "\n",
    "    model.eval()\n",
    "\n",
    "    # Apply the transformation to the image\n",
    "    image = transform(image).unsqueeze(0)\n",
    "    \n",
    "    # Make the prediction\n",
    "    with torch.no_grad():\n",
    "        outputs = model(image)\n",
    "        probabilities = torch.softmax(outputs, dim=1)\n",
    "        predicted_prob, predicted_class = torch.max(probabilities, 1)\n",
    "    \n",
    "    # # Return the predicted class and probability score\n",
    "    # if predicted_class.item() == 0:\n",
    "    #     authenticity = \"Authentic\"\n",
    "    # else:\n",
    "    #     authenticity = \"Counterfeit\"\n",
    "\n",
    "    return predicted_class.item(), predicted_prob.item(), probabilities"
   ]
  },
  {
   "cell_type": "code",
   "execution_count": 97,
   "metadata": {},
   "outputs": [
    {
     "data": {
      "text/plain": [
       "(3, 0.2991650700569153, tensor([[0.1580, 0.2268, 0.1580, 0.2992, 0.1580]]))"
      ]
     },
     "execution_count": 97,
     "metadata": {},
     "output_type": "execute_result"
    }
   ],
   "source": [
    "img = Image.open(\"./test3.png\")\n",
    "result = predict(img, model_name='model_ConvNet_v1', resize=(224,224))\n",
    "result"
   ]
  }
 ],
 "metadata": {
  "kernelspec": {
   "display_name": "wix3001_assignment",
   "language": "python",
   "name": "python3"
  },
  "language_info": {
   "codemirror_mode": {
    "name": "ipython",
    "version": 3
   },
   "file_extension": ".py",
   "mimetype": "text/x-python",
   "name": "python",
   "nbconvert_exporter": "python",
   "pygments_lexer": "ipython3",
   "version": "3.9.6"
  },
  "orig_nbformat": 4
 },
 "nbformat": 4,
 "nbformat_minor": 2
}
